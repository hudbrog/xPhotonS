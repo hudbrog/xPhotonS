{
 "cells": [
  {
   "cell_type": "code",
   "execution_count": 4,
   "metadata": {
    "collapsed": true
   },
   "outputs": [],
   "source": [
    "import struct\n",
    "from matplotlib import pyplot as plt\n",
    "import numpy as np"
   ]
  },
  {
   "cell_type": "code",
   "execution_count": 5,
   "metadata": {
    "collapsed": true
   },
   "outputs": [],
   "source": [
    "%matplotlib inline "
   ]
  },
  {
   "cell_type": "code",
   "execution_count": 70,
   "metadata": {
    "collapsed": true
   },
   "outputs": [],
   "source": [
    "header_info = [\n",
    "    \"XY Pixel Size\",\n",
    "    \"Layer thickness\",\n",
    "    \"Normal Exposure(s)\",\n",
    "    \"Off Time(s)\",\n",
    "    \"Bottom Exposure(s)\",\n",
    "    \"Bottom Layers\",\n",
    "    \"Z Lift Distance(mm)\",\n",
    "    \"Z Lift Speed(mm/s)\",\n",
    "    \"Z Retract Speed(mm/s)\",\n",
    "    \"Total volume(ml)\",\n",
    "]\n",
    "\n",
    "layers_header_info = [\n",
    "    \"Total number of layers\",\n",
    "    # doesn't depend on pixel size\n",
    "    # does depend on screen resolution\n",
    "    \"????(depends on layer thikness or count)\",\n",
    "    \"????\",\n",
    "    \"????\",\n",
    "    \"Screen Width Resolution\",\n",
    "    \"Screen Length Resolution\",\n",
    "    \"??\",\n",
    "    \"??\",\n",
    "    \"??\",\n",
    "    \"??\"    \n",
    "]"
   ]
  },
  {
   "cell_type": "code",
   "execution_count": 71,
   "metadata": {
    "collapsed": true
   },
   "outputs": [],
   "source": [
    "def print_header(header_desc, data):\n",
    "    for k, v in enumerate(header_desc):\n",
    "        print(\"{}: {}\".format(v, data[k]))\n"
   ]
  },
  {
   "cell_type": "code",
   "execution_count": 100,
   "metadata": {},
   "outputs": [
    {
     "name": "stdout",
     "output_type": "stream",
     "text": [
      "Structure size: 92 (5C)\n",
      "XY Pixel Size: 0.04725\n",
      "Layer thickness: 0.1\n",
      "Normal Exposure(s): 8.0\n",
      "Off Time(s): 1.0\n",
      "Bottom Exposure(s): 60.0\n",
      "Bottom Layers: 3\n",
      "Z Lift Distance(mm): 4.0\n",
      "Z Lift Speed(mm/s): 3.0\n",
      "Z Retract Speed(mm/s): 3.0\n",
      "Total volume(ml): 0.13846330299375\n",
      "Total number of layer: 173\n",
      "????: 14916\n",
      "????: 0\n",
      "????: 0\n",
      "Screen Width Resolution: 1440\n",
      "Screen Length Resolution: 2560\n",
      "??: 3\n",
      "??: 51992\n",
      "??: 40965\n",
      "??: 20480\n"
     ]
    },
    {
     "data": {
      "image/png": "[encoded data removed]",
      "text/plain": [
       "<matplotlib.figure.Figure at 0x231618d81d0>"
      ]
     },
     "metadata": {},
     "output_type": "display_data"
    }
   ],
   "source": [
    "format_string = \">5di4diiii\"\n",
    "with open(\"test010_default.photons\", \"rb\") as binary_file:\n",
    "    # 6 + 8 + 8 + 8 == 30\n",
    "    binary_file.seek(6)\n",
    "    data = binary_file.read(struct.calcsize(format_string))\n",
    "    print(\"Structure size: {} ({:02X})\".format(struct.calcsize(format_string), struct.calcsize(format_string)))\n",
    "    tuple_of_data = struct.unpack(format_string, data)\n",
    "    print_header(header_info, tuple_of_data)\n",
    "    w, h = tuple_of_data[10], tuple_of_data[12]\n",
    "    np_image = np.zeros((h, w, 3), dtype=np.uint8)\n",
    "    for i in range(tuple_of_data[12]):\n",
    "        img_format = \"<{}h\".format(tuple_of_data[10])\n",
    "        data = binary_file.read(struct.calcsize(img_format))\n",
    "        img_line = struct.unpack(img_format, data)\n",
    "        for k, j in enumerate(img_line):\n",
    "            np_image[i][k][0] = ((j >> 11) & 0x1F) << 3\n",
    "            np_image[i][k][1] = ((j >> 5)  & 0x3F) << 2\n",
    "            np_image[i][k][2] = ((j >> 0)  & 0x1F) << 3\n",
    "    plt.imshow(np_image, interpolation='nearest')\n",
    "#     print(binary_file.tell())\n",
    "    layers_header_format = '>IIIIIIHHHH'\n",
    "    data = binary_file.read(struct.calcsize(layers_header_format))\n",
    "    tuple_of_data = struct.unpack(layers_header_format, data)\n",
    "    print_header(layers_header_info, tuple_of_data)\n"
   ]
  },
  {
   "cell_type": "code",
   "execution_count": null,
   "metadata": {
    "collapsed": true
   },
   "outputs": [],
   "source": []
  }
 ],
 "metadata": {
  "kernelspec": {
   "display_name": "Python 3",
   "language": "python",
   "name": "python3"
  },
  "language_info": {
   "codemirror_mode": {
    "name": "ipython",
    "version": 3
   },
   "file_extension": ".py",
   "mimetype": "text/x-python",
   "name": "python",
   "nbconvert_exporter": "python",
   "pygments_lexer": "ipython3",
   "version": "3.6.1"
  }
 },
 "nbformat": 4,
 "nbformat_minor": 2
}
